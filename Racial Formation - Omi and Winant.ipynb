{
 "cells": [
  {
   "cell_type": "markdown",
   "metadata": {},
   "source": [
    "In 1982, a woman names Phipps sued to change her racial classification from black to white. Phipps was designated black in her birth certificate due to a law that delcared anyoone 1/32nd black to be fully black. This legal battle raised questions about the concept of race and public policy. She lost this lawsuit."
   ]
  },
  {
   "cell_type": "markdown",
   "metadata": {},
   "source": [
    "In modern US, asserting that race causes physical or mental differences leads to a contentious and intense debate. \n",
    "Scientific interpretations of race are not alone in controversy and neither is religious. Race has also been a matter of political contention."
   ]
  },
  {
   "cell_type": "markdown",
   "metadata": {},
   "source": [
    "Race consciousness is a largely modern phenomenon. When europeans came to America for the first time and met the native americans, the native americans challenged european conceptions of humans due to their appearance and beliefs. This caused religious debates in order to reconcile the bible with the existence of these different individuals. Europeans wondered if these Native Americans could in fact become reddemable in the eye of god, so they used that as justification for all sorts of horrors for the Native Americans (i.e. land appropriation, slavery, etc. etc.)"
   ]
  },
  {
   "cell_type": "markdown",
   "metadata": {},
   "source": [
    "Most biologists and anthropologists have abandoned the quest for a scientific basis to determine racial categories, but controversies have flared in genetics and educational psychology. An attempt to establish a biological basis of race still exists and is being resurrected and approached in various scientific areas. All atttempts seek to remove the concept of race and suggests that race is only a series of innate characteristics and that skin color and other physical attributes are only indicators."
   ]
  },
  {
   "cell_type": "markdown",
   "metadata": {},
   "source": [
    "The social sciences believe that race is not so much a biological concept but rather a social concept. Race is preeminently a socio-historic concept. Racial categories and the meaning of race are defined by the social relations and historical context in the place and time they are currently in. Briefly put, racial meaning have different over time and over different locations."
   ]
  },
  {
   "cell_type": "markdown",
   "metadata": {},
   "source": [
    "An example of this can be seen in America in the racial division betweem whites and blacks, in which they were regarded as good and bad respectively. In contrast, in Latin America, there has been a relative absence of racial groupings. For example, in Brazil, people are accepted as representatives of other racial types."
   ]
  },
  {
   "cell_type": "markdown",
   "metadata": {},
   "source": [
    "The meaning of race is defined and changed throughout many societies and many times. In this process, many racial groups and categories and formed, transformed, and destroyed. The term racial formation refers to the process in which many socioeconomic forces determines the content and importance of racial categories."
   ]
  },
  {
   "cell_type": "markdown",
   "metadata": {},
   "source": [
    "One of the first things we notice about people when we meet them is their race and their sex. We use race to clue us in about who a person is. This is very obvious when we meet someone we cannot categorize , i.e. racially mixed inidivduals. This encounter causes discomfort and without a racial identity, one is in danger of having no identity.  \n",
    "Our compass for navigating race depends on preconceived notions on what each race looks like. Race becomes a way of comprehending, explaining, and acting in the world. Race also acts as a way to explain various differences in behavior, both physical and emotional."
   ]
  },
  {
   "cell_type": "markdown",
   "metadata": {},
   "source": [
    "Film and television plays a large role in images of racial minorities and defining racial caategories. The power of the media is to reflect dominant racial ideology as defined by society. In the US, the need to define characters in a breif moment has led to racial stereotypes in order to fiulfill this need and appeal to an enormous and diverse audience familiar with such groupings."
   ]
  },
  {
   "cell_type": "markdown",
   "metadata": {},
   "source": [
    "The racial category of black came with the consolidation of racial slavery. By the end of the seventeeth century, Africans from different parts of African were rednered black by an ideology of exploitation by whites. Racialization refers to the extension of a racial category to a previously uncategorized groups. Another example of such an activity applies to whites an Asians."
   ]
  },
  {
   "cell_type": "markdown",
   "metadata": {},
   "source": [
    "The effort must be made to understand that race is an unstable complex of social meanins being transformed by political struggle."
   ]
  }
 ],
 "metadata": {
  "kernelspec": {
   "display_name": "Python 3",
   "language": "python",
   "name": "python3"
  },
  "language_info": {
   "codemirror_mode": {
    "name": "ipython",
    "version": 3
   },
   "file_extension": ".py",
   "mimetype": "text/x-python",
   "name": "python",
   "nbconvert_exporter": "python",
   "pygments_lexer": "ipython3",
   "version": "3.6.0"
  }
 },
 "nbformat": 4,
 "nbformat_minor": 2
}
